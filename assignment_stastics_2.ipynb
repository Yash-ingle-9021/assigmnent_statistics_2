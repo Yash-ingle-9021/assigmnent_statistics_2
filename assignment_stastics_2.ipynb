{
 "cells": [
  {
   "cell_type": "markdown",
   "id": "2b4ed6ee-20ce-467e-8304-82dadc35f9a0",
   "metadata": {},
   "source": [
    "# ASSIGNMENT STATISTICS 2"
   ]
  },
  {
   "cell_type": "code",
   "execution_count": 4,
   "id": "5511f3a8-1e28-4dec-a45e-32066f3d30a3",
   "metadata": {},
   "outputs": [
    {
     "name": "stdout",
     "output_type": "stream",
     "text": [
      "Q_1_ANS :- The three measures of central tendency :-\n",
      "1. Mean\n",
      "2. Median\n",
      "3. Mode \n"
     ]
    }
   ],
   "source": [
    "print(\"Q_1_ANS :- The three measures of central tendency :-\\n1. Mean\\n2. Median\\n3. Mode \")"
   ]
  },
  {
   "cell_type": "code",
   "execution_count": 7,
   "id": "083c61ed-80d6-48e1-ae4b-63b8345248fd",
   "metadata": {},
   "outputs": [
    {
     "name": "stdout",
     "output_type": "stream",
     "text": [
      "Q_1_ANS :- 1. Mean :- Mean is use to measure centeral tendency in dataset and measure or show central data in dataset. \n",
      "\n",
      "2. Median :- Median is use to handing outliers in dataset and measure centeral tendency in dataset. \n",
      "\n",
      "3. Mode :- Mode is used to centeral tendency in dataset used always measure categorical data it is properly used to measure categorical data.\n"
     ]
    }
   ],
   "source": [
    "print(\"Q_1_ANS :- 1. Mean :- Mean is use to measure centeral tendency in dataset and measure or show central data in dataset. \\n\\n2. Median :- Median is use to handing outliers in dataset and measure centeral tendency in dataset. \\n\\n3. Mode :- Mode is used to centeral tendency in dataset used always measure categorical data it is properly used to measure categorical data.\")"
   ]
  },
  {
   "cell_type": "code",
   "execution_count": 8,
   "id": "82439051-5521-4e67-9212-b1e1fe77a6d8",
   "metadata": {},
   "outputs": [
    {
     "name": "stdout",
     "output_type": "stream",
     "text": [
      "Q_3_ANS :- \n"
     ]
    }
   ],
   "source": [
    "print(\"Q_3_ANS :- \")"
   ]
  },
  {
   "cell_type": "code",
   "execution_count": 9,
   "id": "6031ad25-be4b-460c-b23f-6647d8f6b108",
   "metadata": {},
   "outputs": [],
   "source": [
    "hight_data = [178,177,176,177,178.2,178,175,179,180,175,178.9,176.2,177,172.5,178,176.5]"
   ]
  },
  {
   "cell_type": "code",
   "execution_count": 12,
   "id": "6aaa246c-be7d-453d-9b4d-3d58134ebfed",
   "metadata": {},
   "outputs": [],
   "source": [
    "import numpy as np"
   ]
  },
  {
   "cell_type": "code",
   "execution_count": 13,
   "id": "e2058d6c-a0ce-4f50-a1c6-d03a24bc3ae9",
   "metadata": {},
   "outputs": [
    {
     "data": {
      "text/plain": [
       "177.01875"
      ]
     },
     "execution_count": 13,
     "metadata": {},
     "output_type": "execute_result"
    }
   ],
   "source": [
    "np.mean(hight_data)"
   ]
  },
  {
   "cell_type": "code",
   "execution_count": 14,
   "id": "7e64553e-ac20-4f3f-9afb-585bb2274813",
   "metadata": {},
   "outputs": [
    {
     "data": {
      "text/plain": [
       "177.0"
      ]
     },
     "execution_count": 14,
     "metadata": {},
     "output_type": "execute_result"
    }
   ],
   "source": [
    "np.median(hight_data)"
   ]
  },
  {
   "cell_type": "code",
   "execution_count": 15,
   "id": "d242f903-d381-4626-b9ac-b21a820c6da4",
   "metadata": {},
   "outputs": [],
   "source": [
    "from scipy import stats"
   ]
  },
  {
   "cell_type": "code",
   "execution_count": 16,
   "id": "49f0bf7e-277c-4003-8a14-ea24e398faa9",
   "metadata": {},
   "outputs": [
    {
     "name": "stderr",
     "output_type": "stream",
     "text": [
      "/tmp/ipykernel_84/87325846.py:1: FutureWarning: Unlike other reduction functions (e.g. `skew`, `kurtosis`), the default behavior of `mode` typically preserves the axis it acts along. In SciPy 1.11.0, this behavior will change: the default value of `keepdims` will become False, the `axis` over which the statistic is taken will be eliminated, and the value None will no longer be accepted. Set `keepdims` to True or False to avoid this warning.\n",
      "  stats.mode(hight_data)\n"
     ]
    },
    {
     "data": {
      "text/plain": [
       "ModeResult(mode=array([177.]), count=array([3]))"
      ]
     },
     "execution_count": 16,
     "metadata": {},
     "output_type": "execute_result"
    }
   ],
   "source": [
    "stats.mode(hight_data)"
   ]
  },
  {
   "cell_type": "code",
   "execution_count": 17,
   "id": "6831c4b5-2b43-4ab2-a64a-92245498ae7f",
   "metadata": {},
   "outputs": [
    {
     "name": "stdout",
     "output_type": "stream",
     "text": [
      "Q_4_ANS :- \n"
     ]
    }
   ],
   "source": [
    "print(\"Q_4_ANS :- \")"
   ]
  },
  {
   "cell_type": "code",
   "execution_count": 18,
   "id": "5106ef2f-734e-4d35-9fa5-effc1588f7d7",
   "metadata": {},
   "outputs": [],
   "source": [
    "hight_data1 = [178,177,176,177,178.2,178,175,179,180,175,178.9,176.2,177,172.5,178,176.5]"
   ]
  },
  {
   "cell_type": "code",
   "execution_count": 20,
   "id": "630ee65f-af24-4891-b690-5705986b4872",
   "metadata": {},
   "outputs": [
    {
     "data": {
      "text/plain": [
       "1.7885814036548633"
      ]
     },
     "execution_count": 20,
     "metadata": {},
     "output_type": "execute_result"
    }
   ],
   "source": [
    "np.std(hight_data1)"
   ]
  },
  {
   "cell_type": "code",
   "execution_count": 57,
   "id": "2431372e-8d33-4cb6-8ea8-b175fe6437c5",
   "metadata": {},
   "outputs": [
    {
     "name": "stdout",
     "output_type": "stream",
     "text": [
      "Q_5_ANS :- Measures of dispersion such as range, variance, and standard deviation are used to describe how much the data values vary or spread out from the central tendency of the dataset, such as the mean or median.\n",
      "\n",
      "For example, let's consider a dataset of the daily number of steps taken by 10 people for a week:\n",
      "\n",
      "[5000, 7000, 8000, 9000, 10000, 12000, 13000, 14000, 15000, 20000]\n",
      "\n",
      "Range: The range is the difference between the maximum and minimum values in the dataset. In this case, the range is 20000 - 5000 = 15000, which indicates that the values are spread out over a wide range.\n",
      "\n",
      "Variance: The variance measures the average squared deviation of each data point from the mean. It is calculated as follows:\n",
      "\n",
      "variance = sum((x - mean)^2) / (n - 1)\n",
      "\n",
      "where x is each data point, mean is the mean of the dataset, and n is the number of data points. For this dataset, the variance is approximately 1,826,667.\n",
      "\n",
      "Standard deviation: The standard deviation is the square root of the variance and measures the spread of the data in the same units as the original data. It is calculated as follows:\n",
      "\n",
      "standard deviation = sqrt(variance)\n",
      "For this dataset, the standard deviation is approximately 1,351.9, which indicates that the data values are spread out from the mean by an average of about 1,351.9 steps per day.\n",
      "\n",
      "In summary, measures of dispersion such as range, variance, and standard deviation are used to describe the spread of data and provide useful information about the variability of the dataset. \n"
     ]
    }
   ],
   "source": [
    "print(\"Q_5_ANS :- Measures of dispersion such as range, variance, and standard deviation are used to describe how much the data values vary or spread out from the central tendency of the dataset, such as the mean or median.\\n\\nFor example, let's consider a dataset of the daily number of steps taken by 10 people for a week:\\n\\n[5000, 7000, 8000, 9000, 10000, 12000, 13000, 14000, 15000, 20000]\\n\\nRange: The range is the difference between the maximum and minimum values in the dataset. In this case, the range is 20000 - 5000 = 15000, which indicates that the values are spread out over a wide range.\\n\\nVariance: The variance measures the average squared deviation of each data point from the mean. It is calculated as follows:\\n\\nvariance = sum((x - mean)^2) / (n - 1)\\n\\nwhere x is each data point, mean is the mean of the dataset, and n is the number of data points. For this dataset, the variance is approximately 1,826,667.\\n\\nStandard deviation: The standard deviation is the square root of the variance and measures the spread of the data in the same units as the original data. It is calculated as follows:\\n\\nstandard deviation = sqrt(variance)\\nFor this dataset, the standard deviation is approximately 1,351.9, which indicates that the data values are spread out from the mean by an average of about 1,351.9 steps per day.\\n\\nIn summary, measures of dispersion such as range, variance, and standard deviation are used to describe the spread of data and provide useful information about the variability of the dataset. \")"
   ]
  },
  {
   "cell_type": "code",
   "execution_count": 59,
   "id": "c7cf9db1-576f-4ae9-b150-5098663848be",
   "metadata": {},
   "outputs": [
    {
     "name": "stdout",
     "output_type": "stream",
     "text": [
      "Q_6_ANS :- A Venn diagram is an illustration that uses circles to show the relationships among things or finite groups of things. Circles that overlap have a commonality while circles that do not overlap do not share those traits.\n",
      "\n",
      "Venn diagrams help to visually represent the similarities and differences between two concepts. They have long been recognized for their usefulness as educational tools. Since the mid-20th century, Venn diagrams have been used as part of the introductory logic curriculum and in elementary-level educational plans around the world. \n"
     ]
    }
   ],
   "source": [
    "print(\"Q_6_ANS :- A Venn diagram is an illustration that uses circles to show the relationships among things or finite groups of things. Circles that overlap have a commonality while circles that do not overlap do not share those traits.\\n\\nVenn diagrams help to visually represent the similarities and differences between two concepts. They have long been recognized for their usefulness as educational tools. Since the mid-20th century, Venn diagrams have been used as part of the introductory logic curriculum and in elementary-level educational plans around the world. \")"
   ]
  },
  {
   "cell_type": "code",
   "execution_count": 60,
   "id": "e9be218e-fbdc-4085-84c2-1c904b908f41",
   "metadata": {},
   "outputs": [
    {
     "name": "stdout",
     "output_type": "stream",
     "text": [
      "Q_7_ANS :- \n"
     ]
    }
   ],
   "source": [
    "print(\"Q_7_ANS :- \")"
   ]
  },
  {
   "cell_type": "code",
   "execution_count": 61,
   "id": "8699fad0-094b-4032-8d5e-f698ca972b5f",
   "metadata": {},
   "outputs": [],
   "source": [
    "A = {2,3,4,5,6,7}\n",
    "B = {0,2,6,8,10}"
   ]
  },
  {
   "cell_type": "code",
   "execution_count": 85,
   "id": "4b87f49c-a3b0-4f6b-ac3a-3bdcafc019e9",
   "metadata": {},
   "outputs": [
    {
     "name": "stdout",
     "output_type": "stream",
     "text": [
      "{2, 6}\n"
     ]
    }
   ],
   "source": [
    "print(A.intersection(B))"
   ]
  },
  {
   "cell_type": "code",
   "execution_count": 86,
   "id": "da04c7c7-1dd7-4d42-a520-24004161e9c0",
   "metadata": {},
   "outputs": [
    {
     "name": "stdout",
     "output_type": "stream",
     "text": [
      "{0, 2, 3, 4, 5, 6, 7, 8, 10}\n"
     ]
    }
   ],
   "source": [
    "print(A.union(B))"
   ]
  },
  {
   "cell_type": "code",
   "execution_count": 98,
   "id": "3f8885f6-5209-4466-b29f-ffa6152400a3",
   "metadata": {},
   "outputs": [
    {
     "name": "stdout",
     "output_type": "stream",
     "text": [
      "Q_8_ANS :- Skewness :- skewness is show relationship between mean , median , mode \n",
      "\n",
      "three type of skewnwss :-\n",
      "\n",
      "1.Symmetric Skewness \n",
      "Symmetric Skewness show relation between mean = median = mode\n",
      "\n",
      "2.Right Skewness / Positive Skewness\n",
      "Right Skewness show relation between mean >= median >= mode\n",
      "\n",
      "3.Left Skewness / Negative Skewness\n",
      "Left Skewness show relation between mode> median > mean \n"
     ]
    }
   ],
   "source": [
    "print(\"Q_8_ANS :- Skewness :- skewness is show relationship between mean , median , mode \\n\\nthree type of skewnwss :-\\n\\n1.Symmetric Skewness \\nSymmetric Skewness show relation between mean = median = mode\\n\\n2.Right Skewness / Positive Skewness\\nRight Skewness show relation between mean >= median >= mode\\n\\n3.Left Skewness / Negative Skewness\\nLeft Skewness show relation between mode> median > mean \")"
   ]
  },
  {
   "cell_type": "code",
   "execution_count": 90,
   "id": "13c2f439-a9b8-46e5-8d7d-13aa5f2dbd89",
   "metadata": {},
   "outputs": [
    {
     "name": "stdout",
     "output_type": "stream",
     "text": [
      "Q_9_ANS :- Right Skewness\n",
      "Right Skewness show relation between mean >= median >= mode\n"
     ]
    }
   ],
   "source": [
    "print(\"Q_9_ANS :- Right Skewness\\nRight Skewness show relation between mean >= median >= mode\")"
   ]
  },
  {
   "cell_type": "code",
   "execution_count": 91,
   "id": "85572daa-a8fd-4f44-8c6a-a57b6bc4d202",
   "metadata": {},
   "outputs": [
    {
     "name": "stdout",
     "output_type": "stream",
     "text": [
      "Q_10_ANS :- Covariance :- Covariance show data feature positive or negative in dataset.\n",
      "\n",
      "Correlation :- Correlation show relationship between features , but only relationship between numarical features.\n",
      "\n",
      "Two types of method use in correlation :\n",
      "\n",
      "1. pearson\n",
      "\n",
      "2. spearman\n"
     ]
    }
   ],
   "source": [
    "print(\"Q_10_ANS :- Covariance :- Covariance show data feature positive or negative in dataset.\\n\\nCorrelation :- Correlation show relationship between features , but only relationship between numarical features.\\n\\nTwo types of method use in correlation :\\n\\n1. pearson\\n\\n2. spearman\")"
   ]
  },
  {
   "cell_type": "code",
   "execution_count": 92,
   "id": "87239a8d-0f6e-4cc5-9a46-8004b94ca8b1",
   "metadata": {},
   "outputs": [
    {
     "name": "stdout",
     "output_type": "stream",
     "text": [
      "Q_11_ANS :- Sample mean Formula : \n",
      "\n",
      " sample mean = (sum of terms) / (number of terms)\n",
      " \n"
     ]
    }
   ],
   "source": [
    "print(\"Q_11_ANS :- Sample mean Formula : \\n\\n sample mean = (sum of terms) / (number of terms)\\n \")"
   ]
  },
  {
   "cell_type": "code",
   "execution_count": 94,
   "id": "ac7b9487-79b4-4213-8038-0dd9c7287e71",
   "metadata": {},
   "outputs": [],
   "source": [
    "df = sns.load_dataset('flights')"
   ]
  },
  {
   "cell_type": "code",
   "execution_count": 95,
   "id": "ae40a995-076b-4d30-ad88-7cfbf54824d2",
   "metadata": {},
   "outputs": [
    {
     "data": {
      "text/html": [
       "<div>\n",
       "<style scoped>\n",
       "    .dataframe tbody tr th:only-of-type {\n",
       "        vertical-align: middle;\n",
       "    }\n",
       "\n",
       "    .dataframe tbody tr th {\n",
       "        vertical-align: top;\n",
       "    }\n",
       "\n",
       "    .dataframe thead th {\n",
       "        text-align: right;\n",
       "    }\n",
       "</style>\n",
       "<table border=\"1\" class=\"dataframe\">\n",
       "  <thead>\n",
       "    <tr style=\"text-align: right;\">\n",
       "      <th></th>\n",
       "      <th>year</th>\n",
       "      <th>month</th>\n",
       "      <th>passengers</th>\n",
       "    </tr>\n",
       "  </thead>\n",
       "  <tbody>\n",
       "    <tr>\n",
       "      <th>0</th>\n",
       "      <td>1949</td>\n",
       "      <td>Jan</td>\n",
       "      <td>112</td>\n",
       "    </tr>\n",
       "    <tr>\n",
       "      <th>1</th>\n",
       "      <td>1949</td>\n",
       "      <td>Feb</td>\n",
       "      <td>118</td>\n",
       "    </tr>\n",
       "    <tr>\n",
       "      <th>2</th>\n",
       "      <td>1949</td>\n",
       "      <td>Mar</td>\n",
       "      <td>132</td>\n",
       "    </tr>\n",
       "    <tr>\n",
       "      <th>3</th>\n",
       "      <td>1949</td>\n",
       "      <td>Apr</td>\n",
       "      <td>129</td>\n",
       "    </tr>\n",
       "    <tr>\n",
       "      <th>4</th>\n",
       "      <td>1949</td>\n",
       "      <td>May</td>\n",
       "      <td>121</td>\n",
       "    </tr>\n",
       "  </tbody>\n",
       "</table>\n",
       "</div>"
      ],
      "text/plain": [
       "   year month  passengers\n",
       "0  1949   Jan         112\n",
       "1  1949   Feb         118\n",
       "2  1949   Mar         132\n",
       "3  1949   Apr         129\n",
       "4  1949   May         121"
      ]
     },
     "execution_count": 95,
     "metadata": {},
     "output_type": "execute_result"
    }
   ],
   "source": [
    "df.head()"
   ]
  },
  {
   "cell_type": "code",
   "execution_count": 96,
   "id": "c5643fb6-8eb3-483d-ac97-f23298be3340",
   "metadata": {},
   "outputs": [
    {
     "data": {
      "text/plain": [
       "280.2986111111111"
      ]
     },
     "execution_count": 96,
     "metadata": {},
     "output_type": "execute_result"
    }
   ],
   "source": [
    "np.mean(df['passengers'])"
   ]
  },
  {
   "cell_type": "code",
   "execution_count": 97,
   "id": "f83f3b68-9e2c-4399-a9d8-b935d9b95510",
   "metadata": {},
   "outputs": [
    {
     "name": "stdout",
     "output_type": "stream",
     "text": [
      "Q_12_ANS :-Normal dustribution :-  In a normal distribution, data is symmetrically distributed with no skew. Most values cluster around a central region, with values tapering off as they go further away from the center. The mean, mode and median are exactly the same in a normal distribution. \n"
     ]
    }
   ],
   "source": [
    "print(\"Q_12_ANS :-Normal dustribution :-  In a normal distribution, data is symmetrically distributed with no skew. Most values cluster around a central region, with values tapering off as they go further away from the center. The mean, mode and median are exactly the same in a normal distribution. \")"
   ]
  },
  {
   "cell_type": "code",
   "execution_count": 99,
   "id": "247a2f01-004a-4663-abdc-1c78a31c83b5",
   "metadata": {},
   "outputs": [
    {
     "name": "stdout",
     "output_type": "stream",
     "text": [
      "Q_13_ANS :-  Covariance :- Covariance show data feature positive or negative in dataset.\n",
      "\n",
      "Correlation :- Correlation show relationship between features , but only relationship between numarical features.\n",
      "\n",
      "Two types of method use in correlation :\n",
      "\n",
      "1. pearson\n",
      "\n",
      "2. spearman \n"
     ]
    }
   ],
   "source": [
    "print(\"Q_13_ANS :-  Covariance :- Covariance show data feature positive or negative in dataset.\\n\\nCorrelation :- Correlation show relationship between features , but only relationship between numarical features.\\n\\nTwo types of method use in correlation :\\n\\n1. pearson\\n\\n2. spearman \")"
   ]
  },
  {
   "cell_type": "code",
   "execution_count": 100,
   "id": "5f68b71e-6e71-4da6-8b97-f9eb80f3113b",
   "metadata": {},
   "outputs": [
    {
     "name": "stdout",
     "output_type": "stream",
     "text": [
      "Q_14_ANS :- \n"
     ]
    }
   ],
   "source": [
    "print(\"Q_14_ANS :- \")"
   ]
  },
  {
   "cell_type": "code",
   "execution_count": 101,
   "id": "366af949-d98d-4fe7-adf3-75a8fdc5bd06",
   "metadata": {},
   "outputs": [],
   "source": [
    "age = [21,42,15,35,46,53,61,42,52,43,26]"
   ]
  },
  {
   "cell_type": "code",
   "execution_count": 102,
   "id": "042d5f35-e010-433c-8174-1628996b9c92",
   "metadata": {},
   "outputs": [
    {
     "data": {
      "text/plain": [
       "39.63636363636363"
      ]
     },
     "execution_count": 102,
     "metadata": {},
     "output_type": "execute_result"
    }
   ],
   "source": [
    "np.mean(age)"
   ]
  },
  {
   "cell_type": "code",
   "execution_count": 103,
   "id": "75553085-2c02-4a88-a129-7869be742ee5",
   "metadata": {},
   "outputs": [
    {
     "data": {
      "text/plain": [
       "42.0"
      ]
     },
     "execution_count": 103,
     "metadata": {},
     "output_type": "execute_result"
    }
   ],
   "source": [
    "np.median(age)"
   ]
  },
  {
   "cell_type": "code",
   "execution_count": 104,
   "id": "4e1c8eca-0d2d-4308-add0-11c411037eca",
   "metadata": {},
   "outputs": [],
   "source": [
    "# ------> Outliers "
   ]
  },
  {
   "cell_type": "code",
   "execution_count": 105,
   "id": "f81b993a-c923-4202-963f-f8de28d92c18",
   "metadata": {},
   "outputs": [],
   "source": [
    "age = [21,42,15,35,46,53,61,42,52,43,26,200]"
   ]
  },
  {
   "cell_type": "code",
   "execution_count": 106,
   "id": "5528d797-53a3-4c8a-b5e3-176cabb9d747",
   "metadata": {},
   "outputs": [
    {
     "data": {
      "text/plain": [
       "53.0"
      ]
     },
     "execution_count": 106,
     "metadata": {},
     "output_type": "execute_result"
    }
   ],
   "source": [
    "np.mean(age)"
   ]
  },
  {
   "cell_type": "code",
   "execution_count": 107,
   "id": "6e9b0370-a0cc-4c43-a844-8147126c7d08",
   "metadata": {},
   "outputs": [
    {
     "data": {
      "text/plain": [
       "42.5"
      ]
     },
     "execution_count": 107,
     "metadata": {},
     "output_type": "execute_result"
    }
   ],
   "source": [
    "np.median(age)"
   ]
  },
  {
   "cell_type": "code",
   "execution_count": null,
   "id": "c1151d3e-db6a-46d5-a33e-e899ce807776",
   "metadata": {},
   "outputs": [],
   "source": []
  }
 ],
 "metadata": {
  "kernelspec": {
   "display_name": "Python 3 (ipykernel)",
   "language": "python",
   "name": "python3"
  },
  "language_info": {
   "codemirror_mode": {
    "name": "ipython",
    "version": 3
   },
   "file_extension": ".py",
   "mimetype": "text/x-python",
   "name": "python",
   "nbconvert_exporter": "python",
   "pygments_lexer": "ipython3",
   "version": "3.10.6"
  }
 },
 "nbformat": 4,
 "nbformat_minor": 5
}
